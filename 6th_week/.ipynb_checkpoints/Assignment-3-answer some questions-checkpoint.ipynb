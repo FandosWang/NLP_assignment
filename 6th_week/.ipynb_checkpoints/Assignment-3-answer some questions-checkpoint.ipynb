{
 "cells": [
  {
   "cell_type": "markdown",
   "metadata": {},
   "source": [
    "### Question_1: Summarize the reasons of overfitting and underfitting."
   ]
  },
  {
   "cell_type": "markdown",
   "metadata": {},
   "source": [
    "Answer_1: \n",
    "\n",
    "The reasons of overfitting:\n",
    "\n",
    "1. too many noise in training data;\n",
    "\n",
    "2. too complex model compare with the data;\n",
    "\n",
    "3. train too much that the model learn too many details of the training data;\n",
    "\n",
    "4. the training data and testing data are divided inappropriately;\n",
    "\n",
    "\n",
    "\n",
    "The reasons of underfitting:\n",
    "\n",
    "1. The model is too sample\n",
    "\n",
    "2. insufficient training \n",
    "\n",
    "\n",
    "\n",
    "\n",
    "\n",
    "\n",
    "\n"
   ]
  },
  {
   "cell_type": "markdown",
   "metadata": {},
   "source": [
    "### Question_2: Writing down three sceneries that machine learning has been used now."
   ]
  },
  {
   "cell_type": "markdown",
   "metadata": {},
   "source": [
    "Answer_2: The three sceneries that machine learning has been used now are e-mail filtering, self-driving and machine translatinon."
   ]
  },
  {
   "cell_type": "markdown",
   "metadata": {},
   "source": [
    "### Question_3: Come out with three new sceneries with which machine learning may be applied."
   ]
  },
  {
   "cell_type": "markdown",
   "metadata": {},
   "source": [
    "Answer_3: The three sceneries that machine learning may be applied are: \n",
    "\n",
    "1) Scientist assistant\n",
    "\n",
    "    They can help scientists to collect imformation, give reaserch advices and write scientific ariticles; \n",
    "\n",
    "\n",
    "\n",
    "2) Learing assistant\n",
    "\n",
    "    You just need to tell them what you want to learn and your target, for example, you want to learn Python and you expect to have the ability to use it in your work, your learing assistant can detect your current knowledge and ability, and then make a learing route for you. Also, they can modify your learing rate or path according to your current learing state.\n",
    "\n",
    "3) Family doctor\n",
    "\n",
    "    Just like Baymax in the movie \"Big Hero 6\". He can detect your symptom and give you advice or treat you directly if possible."
   ]
  },
  {
   "cell_type": "markdown",
   "metadata": {},
   "source": []
  }
 ],
 "metadata": {
  "kernelspec": {
   "display_name": "Python 3",
   "language": "python",
   "name": "python3"
  },
  "language_info": {
   "codemirror_mode": {
    "name": "ipython",
    "version": 3
   },
   "file_extension": ".py",
   "mimetype": "text/x-python",
   "name": "python",
   "nbconvert_exporter": "python",
   "pygments_lexer": "ipython3",
   "version": "3.7.3"
  }
 },
 "nbformat": 4,
 "nbformat_minor": 2
}
