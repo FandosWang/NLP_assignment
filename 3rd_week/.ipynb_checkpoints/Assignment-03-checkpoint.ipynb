{
 "cells": [
  {
   "cell_type": "markdown",
   "metadata": {},
   "source": [
    "# Lecture-03 Gradient Descent and Dymanic Programming"
   ]
  },
  {
   "cell_type": "markdown",
   "metadata": {},
   "source": [
    "###### In this week, we need complete following tasks:\n",
    "+ Re-review the course online programming; \n",
    "+ Choose 1 - 2 books which you interested and keep reading; \n",
    "+ Answer the review questions\n",
    "+ Prepare the basic requirement of our 1st project. "
   ]
  },
  {
   "cell_type": "markdown",
   "metadata": {},
   "source": [
    "## Part I Review the online programming. "
   ]
  },
  {
   "cell_type": "markdown",
   "metadata": {},
   "source": [
    "# The use of defaultdict"
   ]
  },
  {
   "cell_type": "code",
   "execution_count": null,
   "metadata": {},
   "outputs": [],
   "source": [
    "from collections import defaultdict\n",
    "\n",
    "original_price = [1, 5, 8, 9, 10, 17, 17, 20, 24, 30, 35]\n",
    "price = defaultdict(int)  # create a dictionary and if the index is not exsist, return 0.\n",
    "\n",
    "for i, p in enumerate(original_price):\n",
    "    price[i+1] = p\n",
    "print(price[9])\n",
    "print(price[20])"
   ]
  },
  {
   "cell_type": "markdown",
   "metadata": {},
   "source": [
    "# The use of function as a parameter"
   ]
  },
  {
   "cell_type": "code",
   "execution_count": null,
   "metadata": {},
   "outputs": [],
   "source": [
    "def add_ten(num):\n",
    "    return num + 10\n",
    "\n",
    "def multiply_ten(num):\n",
    "    return num * 10\n",
    "\n",
    "def example(f, arg):\n",
    "    return f(arg)\n",
    "\n",
    "operations = [add_ten, multiply_ten]\n",
    "for f in operations:\n",
    "    print(example(f,100))"
   ]
  },
  {
   "cell_type": "markdown",
   "metadata": {},
   "source": [
    "# Create a decorator function to calculate how many times a function been called "
   ]
  },
  {
   "cell_type": "code",
   "execution_count": null,
   "metadata": {},
   "outputs": [],
   "source": [
    "from collections import defaultdict\n",
    "\n",
    "called_time = defaultdict(int)\n",
    "\n",
    "# calculate the time the function are used\n",
    "def get_call_times(f):\n",
    "    result = f()\n",
    "    print(f\"function: {f.__name__} called once!\")\n",
    "    called_time[f.__name__] += 1\n",
    "    return result\n",
    "\n",
    "def function_1(): print(\"I am function 1!\")\n",
    "\n",
    "get_call_times(function_1)\n",
    "print(\"---------------\")\n",
    "print(called_time)"
   ]
  },
  {
   "cell_type": "code",
   "execution_count": null,
   "metadata": {},
   "outputs": [],
   "source": [
    "from functools import wraps\n",
    "from collections import defaultdict\n",
    "\n",
    "\n",
    "called_time_with_arg = defaultdict(int)\n",
    "\n",
    "def get_call_time(f):\n",
    "    \"\"\"@param f is a function\"\"\"\n",
    "    @wraps(f)\n",
    "    def wrap(n):\n",
    "        \"\"\"Haha, I am warp\"\"\"\n",
    "        print(\"I can count!\")\n",
    "        result = f(n)\n",
    "        called_time_with_arg[f.__name__, n] += 1\n",
    "        return result\n",
    "    return wrap\n",
    "\n",
    "def add_ten(n): return n + 10\n",
    "add_ten = get_call_time(add_ten)\n",
    "print(add_ten(10))\n",
    "print(\"---------------\")\n",
    "print(called_time_with_arg)\n",
    "\n",
    "\n",
    "print(\"---------------\")\n",
    "@get_call_time\n",
    "def add_twenty(n):\n",
    "    return n + 20\n",
    "\n",
    "print(add_twenty(100))\n",
    "print(\"---------------\")\n",
    "print(called_time_with_arg)"
   ]
  },
  {
   "cell_type": "markdown",
   "metadata": {},
   "source": [
    "# 如何理解functools.wraps 的作用？\n",
    "装饰器（decorator）是干嘛的？对于受到封装的原函数来说，装饰器能够在那个函数执行前或者执行后分别运行一些代码，使得可以再装饰器里面访问并修改原函数的参数以及返回值，以实现约束定义、调试程序、注册函数等目标。装饰器一般返回一个包装器（wrapper），而functools.wraps就是装饰包装器的装饰器。"
   ]
  },
  {
   "cell_type": "markdown",
   "metadata": {},
   "source": [
    "先来看一个不使用functools.wraps的装饰器例子:"
   ]
  },
  {
   "cell_type": "code",
   "execution_count": null,
   "metadata": {},
   "outputs": [],
   "source": [
    "def tracer(func):\n",
    "    def wrapper(*args, **kwargs):\n",
    "        result = func(*args, **kwargs)\n",
    "        print('%s(%r,%r)->%r'%(func.__name__,args,kwargs,result))\n",
    "        return result\n",
    "    return wrapper\n",
    "\n",
    "@tracer\n",
    "def fibonacci(n):\n",
    "    if n in (0,1):\n",
    "        return n\n",
    "    return (fibonacci(n-1)+fibonacci(n-2))\n",
    "\n",
    "\n",
    "fibonacci(3)\n",
    "print(fibonacci)\n",
    "print('help:')\n",
    "help(fibonacci)"
   ]
  },
  {
   "cell_type": "markdown",
   "metadata": {},
   "source": [
    "可以看到，装饰器完全可以正常工作。。。\n",
    "\n",
    "但是，函数的名字变成装饰器中的包装器了！！！help内置函数也失效了\n",
    "\n",
    "也就是说，原函数的属性失效了\n",
    "\n",
    "如果想要保留原函数的属性，就可以用到functools.wraps了"
   ]
  },
  {
   "cell_type": "code",
   "execution_count": null,
   "metadata": {},
   "outputs": [],
   "source": [
    "from functools import wraps\n",
    "def tracer(func):\n",
    "    @wraps(func)\n",
    "    def wrapper(*args, **kwargs):\n",
    "        result = func(*args, **kwargs)\n",
    "        print('%s(%r,%r)->%r'%(func.__name__,args,kwargs,result))\n",
    "        return result\n",
    "    return wrapper\n",
    "\n",
    "@tracer\n",
    "def fibonacci(n):\n",
    "    if n in (0,1):\n",
    "        return n\n",
    "    return (fibonacci(n-1)+fibonacci(n-2))\n",
    "\n",
    "\n",
    "fibonacci(3)\n",
    "print(fibonacci)\n",
    "print('help:')\n",
    "help(fibonacci)"
   ]
  },
  {
   "cell_type": "markdown",
   "metadata": {},
   "source": [
    "# Get the max splitting by enumerate"
   ]
  },
  {
   "cell_type": "code",
   "execution_count": null,
   "metadata": {},
   "outputs": [],
   "source": [
    "from functools import wraps\n",
    "from collections import defaultdict\n",
    "\n",
    "original_price = [1, 5, 8, 9, 10, 17, 17, 20, 24, 30, 35]\n",
    "  \n",
    "# create a special dictionary in which if the index is not exsist, return 0.\n",
    "price = defaultdict(int)\n",
    "\n",
    "# fill the dictionary \"price\" with orginal_price\n",
    "for i, p in enumerate(original_price):\n",
    "    price[i+1] = p\n",
    "#print(price)\n",
    "\n",
    "called_time_with_arg = defaultdict(int)\n",
    "\n",
    "def get_call_time(f):\n",
    "    \"\"\"@param f is a function\"\"\"\n",
    "    @wraps(f)\n",
    "    def wrap(n):\n",
    "        \"\"\"Haha, I am warp\"\"\"\n",
    "        #print(\"I can count!\")\n",
    "        result = f(n)\n",
    "        called_time_with_arg[f.__name__, n] += 1\n",
    "        return result\n",
    "    return wrap\n",
    "\n",
    "\n",
    "def memo(f): \n",
    "    already_computed = {}\n",
    "    @wraps(f)\n",
    "    def _wrap(arg):\n",
    "        result = None\n",
    "        if arg in already_computed: \n",
    "            result = already_computed[arg]\n",
    "        else:\n",
    "            result = f(arg)\n",
    "            already_computed[arg] = result\n",
    "        return result\n",
    "    return _wrap\n",
    "\n",
    "\n",
    "solution = {}\n",
    "@get_call_time\n",
    "@memo\n",
    "def r(n):\n",
    "    \"\"\"\n",
    "    Args: n is the iron length\n",
    "    Return: the max revenue \n",
    "    \"\"\"\n",
    "    max_price, max_split = max(\n",
    "        [(price[n], 0)] + [(r(i) + r(n-i), i) for i in range(1, n)], key=lambda x: x[0]\n",
    "    )\n",
    "\n",
    "    solution[n] = (n - max_split, max_split)\n",
    "    \n",
    "    return max_price\n",
    "\n",
    "def parse_solution(n):\n",
    "    left_split, right_split = solution[n]\n",
    "    \n",
    "    if right_split == 0: return [left_split]\n",
    "    \n",
    "    return parse_solution(left_split) + parse_solution(right_split)\n",
    "\n",
    "print(r(34))\n",
    "print(parse_solution(34))\n",
    "print(\"--------------\")\n",
    "print(called_time_with_arg)\n",
    "print(\"--------------\")\n",
    "print(solution)"
   ]
  },
  {
   "cell_type": "markdown",
   "metadata": {},
   "source": [
    "# Part 2: change loss function from $loss = \\frac{1}{n}\\sum{(y_i - \\hat(y_i))^2}$ to $loss = \\frac{1}{n}\\sum{|y_i - \\hat{y_i}|}$, and using your mathmatical knowledge to get the right partial formual. Implemen the gradient descent code."
   ]
  },
  {
   "cell_type": "markdown",
   "metadata": {},
   "source": [
    "## loss1\n",
    "\n",
    "$$ loss = \\frac{1}{n} \\sum{(y_i - \\hat{y_i})^2} $$\n",
    "\n",
    "\n",
    "$$ loss = \\frac{1}{n} \\sum{(y_i - (kx_i + b_i))}^2 $$\n",
    "\n",
    "\n",
    "$$ \\frac{\\partial{loss}}{\\partial{k}} = -\\frac{2}{n}\\sum(y_i - \\hat{y_i})x_i$$\n",
    "\n",
    "\n",
    "$$ \\frac{\\partial{loss}}{\\partial{b}} = -\\frac{2}{n}\\sum(y_i - \\hat{y_i})$$"
   ]
  },
  {
   "cell_type": "code",
   "execution_count": 45,
   "metadata": {},
   "outputs": [
    {
     "name": "stdout",
     "output_type": "stream",
     "text": [
      "When time is : 0, get best_k: -46.672979095470104 best_b: -95.46494266537997, and the loss is: 170760.74382563267\n",
      "When time is : 500, get best_k: 15.377275940237327 best_b: -74.58769833344363, and the loss is: 63.232115819136276\n",
      "When time is : 1000, get best_k: 14.035714102124222 best_b: -66.05386516392326, and the loss is: 55.7353651886454\n",
      "When time is : 1500, get best_k: 12.980963463971898 best_b: -59.34447188385128, and the loss is: 51.101416007822316\n",
      "When time is : 2000, get best_k: 12.151706938422963 best_b: -54.06947326453747, and the loss is: 48.23704368588412\n",
      "When time is : 2500, get best_k: 11.499736358561425 best_b: -49.92221146719887, and the loss is: 46.46649582734494\n",
      "When time is : 3000, get best_k: 10.987149934567206 best_b: -46.66158873401189, and the loss is: 45.372071162168574\n",
      "When time is : 3500, get best_k: 10.584148863385481 best_b: -44.09805136219758, and the loss is: 44.69557696746511\n",
      "When time is : 4000, get best_k: 10.267304999070692 best_b: -42.08257015064823, and the loss is: 44.27741717078902\n",
      "When time is : 4500, get best_k: 10.01819887620222 best_b: -40.497976706148094, and the loss is: 44.018941019884494\n",
      "When time is : 5000, get best_k: 9.822348908948594 best_b: -39.25215195225586, and the loss is: 43.85916975273379\n",
      "When time is : 5500, get best_k: 9.6683695156219 best_b: -38.27267086024586, and the loss is: 43.760410707778874\n",
      "When time is : 6000, get best_k: 9.547309226964575 best_b: -37.50259207781072, and the loss is: 43.69936500704473\n",
      "When time is : 6500, get best_k: 9.452130299621336 best_b: -36.89714768894564, and the loss is: 43.66163096881236\n",
      "When time is : 7000, get best_k: 9.377299582540765 best_b: -36.42114066684715, and the loss is: 43.63830651476886\n",
      "When time is : 7500, get best_k: 9.318466851650692 best_b: -36.046898722823684, and the loss is: 43.623889023773735\n",
      "When time is : 8000, get best_k: 9.27221191305029 best_b: -35.75266559985603, and the loss is: 43.614977173309484\n",
      "When time is : 8500, get best_k: 9.235845772764812 best_b: -35.52133628994353, and the loss is: 43.6094685117315\n",
      "When time is : 9000, get best_k: 9.20725431422481 best_b: -35.339462648101716, and the loss is: 43.60606345545244\n",
      "When time is : 9500, get best_k: 9.184775395785092 best_b: -35.196471595176696, and the loss is: 43.60395869586619\n"
     ]
    },
    {
     "data": {
      "text/plain": [
       "<matplotlib.collections.PathCollection at 0x1a1b4dc240>"
      ]
     },
     "execution_count": 45,
     "metadata": {},
     "output_type": "execute_result"
    },
    {
     "data": {
      "image/png": "[encoded data removed]",
      "text/plain": [
       "<Figure size 432x288 with 1 Axes>"
      ]
     },
     "metadata": {
      "needs_background": "light"
     },
     "output_type": "display_data"
    }
   ],
   "source": [
    "from sklearn.datasets import load_boston\n",
    "#import numpy as np\n",
    "%matplotlib inline\n",
    "import matplotlib.pyplot as plt\n",
    "import random\n",
    "\n",
    "data = load_boston()\n",
    "trying_times = 10000\n",
    "X, y = data['data'], data['target']\n",
    "X_rm =X[:,5]\n",
    "k_best, b_best = None, None\n",
    "loss_min = float('inf') \n",
    "k_current = random.random() * 200 - 100\n",
    "b_current = random.random() * 200 - 100\n",
    "learning_rate = 0.02\n",
    "update_time = 0\n",
    "\n",
    "\n",
    "def price(rm, k, b):\n",
    "    return rm*k + b\n",
    "\n",
    "def loss(y, y_hat):\n",
    "    return sum((y_i - y_hat_i)**2 for y_i, y_hat_i in zip(list(y), list(y_hat)))/len(y)\n",
    "\n",
    "def partial_k(x, y, y_hat):\n",
    "    n = len(y)\n",
    "    gradient = 0\n",
    "    for x_i, y_i, y_hat_i in zip(list(x), list(y), list(y_hat)):\n",
    "        gradient += (y_i - y_hat_i) * x_i\n",
    "    return -2 / n * gradient\n",
    "\n",
    "def partial_b(x, y, y_hat):\n",
    "    n = len(y)\n",
    "    gradient = 0\n",
    "    for y_i, y_hat_i in zip(list(y), list(y_hat)):\n",
    "        gradient += (y_i - y_hat_i) \n",
    "    return -2 / n * gradient\n",
    "\n",
    "\n",
    "for i in range(trying_times):\n",
    "    price_by_k_and_b = [price(r, k_current, b_current) for r in X_rm]\n",
    "    loss_current = loss(y, price_by_k_and_b)\n",
    "    if loss_current < loss_min: # performance became better\n",
    "        k_best, b_best, loss_min = k_current, b_current, loss_current\n",
    "    if i % 500 == 0: \n",
    "        print('When time is : {}, get best_k: {} best_b: {}, and the loss is: {}'.format(i, k_best, b_best, loss_min))\n",
    "    k_gradient = partial_k(X_rm, y, price_by_k_and_b)\n",
    "    b_gradient = partial_b(X_rm, y, price_by_k_and_b)\n",
    "    k_current +=  (-1 * k_gradient) * learning_rate\n",
    "    b_current +=  (-1 * b_gradient) * learning_rate\n",
    "\n",
    "    \n",
    "plt.scatter(X_rm, [price(rm, k_best, b_best) for rm in X_rm])\n",
    "plt.scatter(X_rm, y)"
   ]
  },
  {
   "cell_type": "markdown",
   "metadata": {},
   "source": [
    "## loss2\n",
    "\n",
    "$$loss = \\frac{1}{n}\\sum{|y_i - \\hat{y_i}|}$$\n",
    "\n",
    "\n",
    "\n",
    "$$ loss = \\frac{1}{n} \\sum{|y_i - (kx_i + b_i)|} $$\n",
    "\n",
    "\n",
    "$$ \\frac{\\partial{loss}}{\\partial{k}} = -\\frac{1}{n}\\sum(y_i - \\hat{y_i})x_i/|y_i - (kx_i + b_i)|$$\n",
    "\n",
    "\n",
    "$$ \\frac{\\partial{loss}}{\\partial{b}} = -\\frac{1}{n}\\sum(y_i - \\hat{y_i})/|y_i - (kx_i + b_i)|$$"
   ]
  },
  {
   "cell_type": "code",
   "execution_count": 61,
   "metadata": {
    "scrolled": true
   },
   "outputs": [
    {
     "name": "stdout",
     "output_type": "stream",
     "text": [
      "When time is : 0, get best_k: -66.45774897472832 best_b: 89.09236981208349, and the loss is: 351.1030910245974\n",
      "When time is : 1000, get best_k: -66.45774897472832 best_b: 89.09236981208349, and the loss is: 351.1030910245974\n",
      "When time is : 2000, get best_k: -66.45774897472832 best_b: 89.09236981208349, and the loss is: 351.1030910245974\n",
      "When time is : 3000, get best_k: -66.45774897472832 best_b: 89.09236981208349, and the loss is: 351.1030910245974\n",
      "When time is : 4000, get best_k: -66.45774897472832 best_b: 89.09236981208349, and the loss is: 351.1030910245974\n",
      "When time is : 5000, get best_k: -66.45774897472832 best_b: 89.09236981208349, and the loss is: 351.1030910245974\n",
      "When time is : 6000, get best_k: -66.45774897472832 best_b: 89.09236981208349, and the loss is: 351.1030910245974\n",
      "When time is : 7000, get best_k: -66.45774897472832 best_b: 89.09236981208349, and the loss is: 351.1030910245974\n",
      "When time is : 8000, get best_k: -66.45774897472832 best_b: 89.09236981208349, and the loss is: 351.1030910245974\n",
      "When time is : 9000, get best_k: -66.45774897472832 best_b: 89.09236981208349, and the loss is: 351.1030910245974\n"
     ]
    },
    {
     "data": {
      "image/png": "[encoded data removed]",
      "text/plain": [
       "<Figure size 432x288 with 1 Axes>"
      ]
     },
     "metadata": {
      "needs_background": "light"
     },
     "output_type": "display_data"
    },
    {
     "name": "stdout",
     "output_type": "stream",
     "text": [
      "When time is : 0, get best_k: 2.454098601373971 best_b: -21.44145458412767, and the loss is: 28.551148448091563\n",
      "When time is : 1000, get best_k: 7.0931875341802035 best_b: -21.990861698753413, and the loss is: 4.654611787943968\n",
      "When time is : 2000, get best_k: 7.295300577658539 best_b: -23.18532810191633, and the loss is: 4.6252162292189825\n",
      "When time is : 3000, get best_k: 7.482262435366012 best_b: -24.303114663181468, and the loss is: 4.5995269723209065\n",
      "When time is : 4000, get best_k: 7.643876664615211 best_b: -25.33196841812121, and the loss is: 4.577825844728113\n",
      "When time is : 5000, get best_k: 7.8053679689629325 best_b: -26.311810315353927, and the loss is: 4.55809854466156\n",
      "When time is : 6000, get best_k: 7.953176269358076 best_b: -27.251336007052238, and the loss is: 4.53998038551838\n",
      "When time is : 7000, get best_k: 8.079547810859863 best_b: -28.104102805469775, and the loss is: 4.5251167655062\n",
      "When time is : 8000, get best_k: 8.201013621136788 best_b: -28.888490157247237, and the loss is: 4.512502255725935\n",
      "When time is : 9000, get best_k: 8.314455518370023 best_b: -29.62386565131714, and the loss is: 4.501427627759318\n"
     ]
    },
    {
     "data": {
      "image/png": "[encoded data removed]",
      "text/plain": [
       "<Figure size 432x288 with 1 Axes>"
      ]
     },
     "metadata": {
      "needs_background": "light"
     },
     "output_type": "display_data"
    },
    {
     "name": "stdout",
     "output_type": "stream",
     "text": [
      "When time is : 0, get best_k: 81.63936382704665 best_b: 62.106644230846854, and the loss is: 552.6473911757167\n",
      "When time is : 1000, get best_k: -3.474038939752189 best_b: 42.763561226891426, and the loss is: 7.858999612103659\n",
      "When time is : 2000, get best_k: -2.4342381492384577 best_b: 36.397158064834116, and the loss is: 7.442754257982677\n",
      "When time is : 3000, get best_k: -1.434525105760224 best_b: 30.337079013450992, and the loss is: 7.065474504812641\n",
      "When time is : 4000, get best_k: -0.45053340615549836 best_b: 24.405063203173892, and the loss is: 6.703880146957051\n",
      "When time is : 5000, get best_k: 0.4526709416705895 best_b: 18.816920910683805, and the loss is: 6.383241281385898\n",
      "When time is : 6000, get best_k: 1.3090073053069455 best_b: 13.48806715574299, and the loss is: 6.091883997561896\n",
      "When time is : 7000, get best_k: 2.149990704516425 best_b: 8.334312215031364, and the loss is: 5.819129958077621\n",
      "When time is : 8000, get best_k: 2.9289254871251327 best_b: 3.5540750608810807, and the loss is: 5.584345813783219\n",
      "When time is : 9000, get best_k: 3.6683942618286984 best_b: -0.9597589312137883, and the loss is: 5.375115556856184\n"
     ]
    },
    {
     "data": {
      "image/png": "[encoded data removed]",
      "text/plain": [
       "<Figure size 432x288 with 1 Axes>"
      ]
     },
     "metadata": {
      "needs_background": "light"
     },
     "output_type": "display_data"
    },
    {
     "name": "stdout",
     "output_type": "stream",
     "text": [
      "When time is : 0, get best_k: -16.505430608012972 best_b: -15.583506935429853, and the loss is: 141.84691003670747\n",
      "When time is : 1000, get best_k: 6.203808127164924 best_b: -16.54160970222838, and the loss is: 4.801932549780112\n",
      "When time is : 2000, get best_k: 6.844587376176871 best_b: -20.526985196299922, and the loss is: 4.693048548073295\n",
      "When time is : 3000, get best_k: 7.454561486848755 best_b: -24.141807330687236, and the loss is: 4.603183456900981\n",
      "When time is : 4000, get best_k: 7.936650814911858 best_b: -27.121056342544755, and the loss is: 4.542341754255782\n",
      "When time is : 5000, get best_k: 8.297064352461314 best_b: -29.51749903029139, and the loss is: 4.5029688713191405\n",
      "When time is : 6000, get best_k: 8.609420973014776 best_b: -31.513744089580065, and the loss is: 4.475698739074059\n",
      "When time is : 7000, get best_k: 8.883639945346781 best_b: -33.14951484056857, and the loss is: 4.457318698299288\n",
      "When time is : 8000, get best_k: 9.053059905820875 best_b: -34.247538555982715, and the loss is: 4.448949170737812\n",
      "When time is : 9000, get best_k: 9.205562178547959 best_b: -35.177182824757374, and the loss is: 4.443019722672322\n"
     ]
    },
    {
     "data": {
      "image/png": "[encoded data removed]",
      "text/plain": [
       "<Figure size 432x288 with 1 Axes>"
      ]
     },
     "metadata": {
      "needs_background": "light"
     },
     "output_type": "display_data"
    },
    {
     "name": "stdout",
     "output_type": "stream",
     "text": [
      "When time is : 0, get best_k: -6.535869459881027 best_b: -35.43901894863559, and the loss is: 99.04737523155676\n",
      "When time is : 1000, get best_k: 9.08604990770806 best_b: -34.44139049013583, and the loss is: 4.447723238449783\n",
      "When time is : 2000, get best_k: 9.278583109289423 best_b: -35.586845035588716, and the loss is: 4.441164549726863\n",
      "When time is : 3000, get best_k: 9.37417401838055 best_b: -36.27222052966005, and the loss is: 4.438396451130934\n",
      "When time is : 4000, get best_k: 9.41886057964549 best_b: -36.514908276695216, and the loss is: 4.437676962169229\n",
      "When time is : 5000, get best_k: 9.49159061917176 best_b: -37.02241815811886, and the loss is: 4.437398845702259\n",
      "When time is : 6000, get best_k: 9.540134097432755 best_b: -37.19237863242705, and the loss is: 4.437182576607679\n",
      "When time is : 7000, get best_k: 9.571410777275055 best_b: -37.421627644284385, and the loss is: 4.43661527099067\n",
      "When time is : 8000, get best_k: 9.593987061860245 best_b: -37.557596023730795, and the loss is: 4.4365114468518785\n",
      "When time is : 9000, get best_k: 9.615138050002827 best_b: -37.69119286167523, and the loss is: 4.436414177386646\n"
     ]
    },
    {
     "data": {
      "image/png": "[encoded data removed]",
      "text/plain": [
       "<Figure size 432x288 with 1 Axes>"
      ]
     },
     "metadata": {
      "needs_background": "light"
     },
     "output_type": "display_data"
    },
    {
     "name": "stdout",
     "output_type": "stream",
     "text": [
      "When time is : 0, get best_k: 25.65391179686965 best_b: -72.89190171053252, and the loss is: 65.8364728061556\n",
      "When time is : 1000, get best_k: 13.838256658529856 best_b: -64.24170408207335, and the loss is: 4.927279974666347\n",
      "When time is : 2000, get best_k: 12.545946875921322 best_b: -56.38399657219155, and the loss is: 4.673256501634483\n",
      "When time is : 3000, get best_k: 11.717614366040053 best_b: -50.977870089978, and the loss is: 4.550518470647622\n",
      "When time is : 4000, get best_k: 11.123474049834488 best_b: -47.03419420065067, and the loss is: 4.487106839630846\n",
      "When time is : 5000, get best_k: 10.735792231652697 best_b: -44.5025736472905, and the loss is: 4.465228160352512\n",
      "When time is : 6000, get best_k: 10.727144010308821 best_b: -44.461071671005904, and the loss is: 4.464221665797056\n",
      "When time is : 7000, get best_k: 10.727144010308821 best_b: -44.461071671005904, and the loss is: 4.464221665797056\n",
      "When time is : 8000, get best_k: 10.727144010308821 best_b: -44.461071671005904, and the loss is: 4.464221665797056\n",
      "When time is : 9000, get best_k: 10.727144010308821 best_b: -44.461071671005904, and the loss is: 4.464221665797056\n"
     ]
    },
    {
     "data": {
      "image/png": "[encoded data removed]",
      "text/plain": [
       "<Figure size 432x288 with 1 Axes>"
      ]
     },
     "metadata": {
      "needs_background": "light"
     },
     "output_type": "display_data"
    },
    {
     "name": "stdout",
     "output_type": "stream",
     "text": [
      "When time is : 0, get best_k: -55.35710716018727 best_b: 90.59034345920043, and the loss is: 279.84164210814066\n",
      "When time is : 1000, get best_k: -9.051221389436652 best_b: 77.07018535643219, and the loss is: 10.2044919670044\n",
      "When time is : 2000, get best_k: -5.78219490722353 best_b: 56.907339506628524, and the loss is: 8.813604882118375\n",
      "When time is : 3000, get best_k: -2.5874415475398385 best_b: 37.34567942757543, and the loss is: 7.503678545348956\n",
      "When time is : 4000, get best_k: 0.32657110068145456 best_b: 19.63382172006575, and the loss is: 6.428860212014241\n",
      "When time is : 5000, get best_k: 2.9797100334878786 best_b: 4.442912629156604, and the loss is: 5.747945182441295\n",
      "When time is : 6000, get best_k: 3.8681873062150207 best_b: -3.8788265012781658, and the loss is: 5.532985196132499\n",
      "When time is : 7000, get best_k: 5.867057661946259 best_b: -16.672107133689163, and the loss is: 5.306662275860031\n",
      "When time is : 8000, get best_k: 6.175618926768419 best_b: -18.553925315507414, and the loss is: 5.249906058684628\n",
      "When time is : 9000, get best_k: 6.175618926768419 best_b: -18.553925315507414, and the loss is: 5.249906058684628\n"
     ]
    },
    {
     "data": {
      "image/png": "[encoded data removed]",
      "text/plain": [
       "<Figure size 432x288 with 1 Axes>"
      ]
     },
     "metadata": {
      "needs_background": "light"
     },
     "output_type": "display_data"
    },
    {
     "name": "stdout",
     "output_type": "stream",
     "text": [
      "When time is : 0, get best_k: -72.41056922649236 best_b: -77.10599276959871, and the loss is: 554.7127524622397\n",
      "When time is : 1000, get best_k: 13.304836801175785 best_b: -63.465676564065326, and the loss is: 5.407895870152093\n",
      "When time is : 2000, get best_k: 13.304836801175785 best_b: -63.465676564065326, and the loss is: 5.407895870152093\n",
      "When time is : 3000, get best_k: 13.304836801175785 best_b: -63.465676564065326, and the loss is: 5.407895870152093\n",
      "When time is : 4000, get best_k: 13.304836801175785 best_b: -63.465676564065326, and the loss is: 5.407895870152093\n",
      "When time is : 5000, get best_k: 13.304836801175785 best_b: -63.465676564065326, and the loss is: 5.407895870152093\n",
      "When time is : 6000, get best_k: 13.304836801175785 best_b: -63.465676564065326, and the loss is: 5.407895870152093\n",
      "When time is : 7000, get best_k: 13.304836801175785 best_b: -63.465676564065326, and the loss is: 5.407895870152093\n",
      "When time is : 8000, get best_k: 13.304836801175785 best_b: -63.465676564065326, and the loss is: 5.407895870152093\n",
      "When time is : 9000, get best_k: 13.304836801175785 best_b: -63.465676564065326, and the loss is: 5.407895870152093\n"
     ]
    },
    {
     "data": {
      "image/png": "[encoded data removed]",
      "text/plain": [
       "<Figure size 432x288 with 1 Axes>"
      ]
     },
     "metadata": {
      "needs_background": "light"
     },
     "output_type": "display_data"
    },
    {
     "name": "stdout",
     "output_type": "stream",
     "text": [
      "When time is : 0, get best_k: -13.067304343511736 best_b: 47.43868870937456, and the loss is: 57.21734784196122\n",
      "When time is : 1000, get best_k: -0.4488071103102115 best_b: 24.083747997912113, and the loss is: 6.692110710592545\n",
      "When time is : 2000, get best_k: 0.8607509924567205 best_b: 17.08453851174614, and the loss is: 6.330302290940366\n",
      "When time is : 3000, get best_k: 0.8607509924567205 best_b: 17.08453851174614, and the loss is: 6.330302290940366\n",
      "When time is : 4000, get best_k: 0.8607509924567205 best_b: 17.08453851174614, and the loss is: 6.330302290940366\n",
      "When time is : 5000, get best_k: 0.8607509924567205 best_b: 17.08453851174614, and the loss is: 6.330302290940366\n",
      "When time is : 6000, get best_k: 8.03132490550058 best_b: -23.3375958756056, and the loss is: 6.307829717396418\n",
      "When time is : 7000, get best_k: 8.03132490550058 best_b: -23.3375958756056, and the loss is: 6.307829717396418\n",
      "When time is : 8000, get best_k: 8.03132490550058 best_b: -23.3375958756056, and the loss is: 6.307829717396418\n",
      "When time is : 9000, get best_k: 8.03132490550058 best_b: -23.3375958756056, and the loss is: 6.307829717396418\n"
     ]
    },
    {
     "data": {
      "image/png": "[encoded data removed]",
      "text/plain": [
       "<Figure size 432x288 with 1 Axes>"
      ]
     },
     "metadata": {
      "needs_background": "light"
     },
     "output_type": "display_data"
    },
    {
     "name": "stdout",
     "output_type": "stream",
     "text": [
      "When time is : 0, get best_k: 36.075508802049825 best_b: -92.5865767820651, and the loss is: 111.6020000523984\n",
      "When time is : 1000, get best_k: 18.064051588611065 best_b: -95.41286136704531, and the loss is: 7.395755055057041\n",
      "When time is : 2000, get best_k: 18.064051588611065 best_b: -95.41286136704531, and the loss is: 7.395755055057041\n",
      "When time is : 3000, get best_k: 18.064051588611065 best_b: -95.41286136704531, and the loss is: 7.395755055057041\n",
      "When time is : 4000, get best_k: 18.064051588611065 best_b: -95.41286136704531, and the loss is: 7.395755055057041\n",
      "When time is : 5000, get best_k: 18.064051588611065 best_b: -95.41286136704531, and the loss is: 7.395755055057041\n",
      "When time is : 6000, get best_k: 18.064051588611065 best_b: -95.41286136704531, and the loss is: 7.395755055057041\n",
      "When time is : 7000, get best_k: 18.064051588611065 best_b: -95.41286136704531, and the loss is: 7.395755055057041\n",
      "When time is : 8000, get best_k: 18.064051588611065 best_b: -95.41286136704531, and the loss is: 7.395755055057041\n",
      "When time is : 9000, get best_k: 18.064051588611065 best_b: -95.41286136704531, and the loss is: 7.395755055057041\n"
     ]
    },
    {
     "data": {
      "image/png": "[encoded data removed]",
      "text/plain": [
       "<Figure size 432x288 with 1 Axes>"
      ]
     },
     "metadata": {
      "needs_background": "light"
     },
     "output_type": "display_data"
    }
   ],
   "source": [
    "from sklearn.datasets import load_boston\n",
    "#import numpy as np\n",
    "%matplotlib inline\n",
    "import matplotlib.pyplot as plt\n",
    "import random\n",
    "\n",
    "\n",
    "def price(rm, k, b):\n",
    "    return rm*k + b\n",
    "\n",
    "def loss(y, y_hat):\n",
    "    return sum(abs(y_i - y_hat_i) for y_i, y_hat_i in zip(list(y), list(y_hat)))/len(y)\n",
    "\n",
    "def partial_k(x, y, y_hat):\n",
    "    n = len(y)\n",
    "    gradient = 0\n",
    "    for x_i, y_i, y_hat_i in zip(list(x), list(y), list(y_hat)):\n",
    "        gradient += (y_i - y_hat_i) * x_i / abs(y_i - y_hat_i)\n",
    "    return -1 / n * gradient\n",
    "\n",
    "def partial_b(x, y, y_hat):\n",
    "    n = len(y)\n",
    "    gradient = 0\n",
    "    for y_i, y_hat_i in zip(list(y), list(y_hat)):\n",
    "        gradient += (y_i - y_hat_i) / abs(y_i - y_hat_i)\n",
    "    return -1 / n * gradient\n",
    "\n",
    "def gradient_decent():\n",
    "    data = load_boston()\n",
    "    trying_times = 10000\n",
    "    X, y = data['data'], data['target']\n",
    "    X_rm =X[:,5]\n",
    "    k_best, b_best = None, None\n",
    "    loss_min = float('inf') \n",
    "    k_current = random.random() * 200 - 100\n",
    "    b_current = random.random() * 200 - 100\n",
    "    update_time = 0\n",
    "    \n",
    "    for i in range(trying_times):\n",
    "        price_by_k_and_b = [price(r, k_current, b_current) for r in X_rm]\n",
    "        loss_current = loss(y, price_by_k_and_b)\n",
    "        if loss_current < loss_min: # performance became better\n",
    "            k_best, b_best, loss_min = k_current, b_current, loss_current\n",
    "        if i % 1000 == 0: \n",
    "            print('When time is : {}, get best_k: {} best_b: {}, and the loss is: {}'.format(i, k_best, b_best, loss_min))\n",
    "        k_gradient = partial_k(X_rm, y, price_by_k_and_b)\n",
    "        b_gradient = partial_b(X_rm, y, price_by_k_and_b)\n",
    "        k_current +=  (-1 * k_gradient) * learning_rate\n",
    "        b_current +=  (-1 * b_gradient) * learning_rate\n",
    "\n",
    "\n",
    "    plt.scatter(X_rm, [price(rm, k_best, b_best) for rm in X_rm])\n",
    "    plt.scatter(X_rm, y)\n",
    "    plt.show()\n",
    "    \n",
    "for i in range(10):\n",
    "    learning_rate = i * 0.05\n",
    "    gradient_decent()"
   ]
  },
  {
   "cell_type": "markdown",
   "metadata": {},
   "source": [
    "## $$没看出来是哪里出错了$$"
   ]
  },
  {
   "cell_type": "code",
   "execution_count": null,
   "metadata": {},
   "outputs": [],
   "source": []
  },
  {
   "cell_type": "markdown",
   "metadata": {},
   "source": [
    "# Part 3: Finish the Solution Parse Part of Edit-Distance"
   ]
  },
  {
   "cell_type": "code",
   "execution_count": 112,
   "metadata": {},
   "outputs": [],
   "source": [
    "\n",
    "\n",
    "#@lru_cache(maxsize=2**10)\n",
    "def edit_distance(string1, string2):\n",
    "    \n",
    "    if len(string1) == 0: return len(string2)\n",
    "    if len(string2) == 0: return len(string1)\n",
    "    \n",
    "    tail_s1 = string1[-1]\n",
    "    tail_s2 = string2[-1]\n",
    "    \n",
    "    candidates = [\n",
    "        (edit_distance(string1[:-1], string2) + 1, 'DEL {}'.format(tail_s1)),  # string 1 delete tail\n",
    "        (edit_distance(string1, string2[:-1]) + 1, 'ADD {}'.format(tail_s2)),  # string 1 add tail of string2\n",
    "    ]\n",
    "    \n",
    "    if tail_s1 == tail_s2:\n",
    "        both_forward = (edit_distance(string1[:-1], string2[:-1]) + 0, '')\n",
    "    else:\n",
    "        both_forward = (edit_distance(string1[:-1], string2[:-1]) + 1, 'SUB {} => {}'.format(tail_s1, tail_s2))\n",
    "\n",
    "    candidates.append(both_forward)\n",
    "    \n",
    "    min_distance, operation = min(candidates, key=lambda x: x[0])\n",
    "    \n",
    "    solutions[(string1, string2)] = operation \n",
    "    print(candidates)\n",
    "    print(solutions[(string1, string2)])\n",
    "    return min_distance"
   ]
  },
  {
   "cell_type": "code",
   "execution_count": 113,
   "metadata": {},
   "outputs": [
    {
     "name": "stdout",
     "output_type": "stream",
     "text": [
      "[(2, 'DEL A'), (2, 'ADD A'), (0, '')]\n",
      "\n",
      "[(3, 'DEL A'), (1, 'ADD B'), (2, 'SUB A => B')]\n",
      "ADD B\n",
      "[(4, 'DEL A'), (2, 'ADD D'), (3, 'SUB A => D')]\n",
      "ADD D\n",
      "[(2, 'DEL A'), (2, 'ADD A'), (0, '')]\n",
      "\n",
      "[(3, 'DEL A'), (1, 'ADD B'), (2, 'SUB A => B')]\n",
      "ADD B\n",
      "[(2, 'DEL A'), (2, 'ADD A'), (0, '')]\n",
      "\n",
      "[(1, 'DEL B'), (3, 'ADD A'), (2, 'SUB B => A')]\n",
      "DEL B\n",
      "[(2, 'DEL A'), (2, 'ADD A'), (0, '')]\n",
      "\n",
      "[(2, 'DEL B'), (2, 'ADD B'), (0, '')]\n",
      "\n",
      "[(2, 'DEL A'), (2, 'ADD A'), (0, '')]\n",
      "\n",
      "[(3, 'DEL A'), (1, 'ADD B'), (2, 'SUB A => B')]\n",
      "ADD B\n",
      "[(3, 'DEL B'), (1, 'ADD D'), (2, 'SUB B => D')]\n",
      "ADD D\n",
      "[(2, 'DEL A'), (2, 'ADD A'), (0, '')]\n",
      "\n",
      "[(3, 'DEL A'), (1, 'ADD B'), (2, 'SUB A => B')]\n",
      "ADD B\n",
      "[(2, 'DEL A'), (2, 'ADD A'), (0, '')]\n",
      "\n",
      "[(1, 'DEL B'), (3, 'ADD A'), (2, 'SUB B => A')]\n",
      "DEL B\n",
      "[(2, 'DEL A'), (2, 'ADD A'), (0, '')]\n",
      "\n",
      "[(2, 'DEL B'), (2, 'ADD B'), (0, '')]\n",
      "\n",
      "[(2, 'DEL A'), (2, 'ADD A'), (0, '')]\n",
      "\n",
      "[(1, 'DEL B'), (3, 'ADD A'), (2, 'SUB B => A')]\n",
      "DEL B\n",
      "[(2, 'DEL C'), (4, 'ADD A'), (3, 'SUB C => A')]\n",
      "DEL C\n",
      "[(2, 'DEL A'), (2, 'ADD A'), (0, '')]\n",
      "\n",
      "[(1, 'DEL B'), (3, 'ADD A'), (2, 'SUB B => A')]\n",
      "DEL B\n",
      "[(1, 'DEL C'), (3, 'ADD B'), (2, 'SUB C => B')]\n",
      "DEL C\n",
      "[(2, 'DEL A'), (2, 'ADD A'), (0, '')]\n",
      "\n",
      "[(3, 'DEL A'), (1, 'ADD B'), (2, 'SUB A => B')]\n",
      "ADD B\n",
      "[(2, 'DEL A'), (2, 'ADD A'), (0, '')]\n",
      "\n",
      "[(1, 'DEL B'), (3, 'ADD A'), (2, 'SUB B => A')]\n",
      "DEL B\n",
      "[(2, 'DEL A'), (2, 'ADD A'), (0, '')]\n",
      "\n",
      "[(2, 'DEL B'), (2, 'ADD B'), (0, '')]\n",
      "\n",
      "[(2, 'DEL C'), (2, 'ADD D'), (1, 'SUB C => D')]\n",
      "SUB C => D\n"
     ]
    },
    {
     "data": {
      "text/plain": [
       "1"
      ]
     },
     "execution_count": 113,
     "metadata": {},
     "output_type": "execute_result"
    }
   ],
   "source": [
    "solutions = {}\n",
    "edit_distance('ABC', 'ABD')"
   ]
  },
  {
   "cell_type": "code",
   "execution_count": 114,
   "metadata": {
    "scrolled": true
   },
   "outputs": [
    {
     "data": {
      "text/plain": [
       "{('A', 'A'): '',\n",
       " ('A', 'AB'): 'ADD B',\n",
       " ('A', 'ABD'): 'ADD D',\n",
       " ('AB', 'A'): 'DEL B',\n",
       " ('AB', 'AB'): '',\n",
       " ('AB', 'ABD'): 'ADD D',\n",
       " ('ABC', 'A'): 'DEL C',\n",
       " ('ABC', 'AB'): 'DEL C',\n",
       " ('ABC', 'ABD'): 'SUB C => D'}"
      ]
     },
     "execution_count": 114,
     "metadata": {},
     "output_type": "execute_result"
    }
   ],
   "source": [
    "solutions"
   ]
  },
  {
   "cell_type": "code",
   "execution_count": 99,
   "metadata": {},
   "outputs": [
    {
     "ename": "NameError",
     "evalue": "name 'candidates' is not defined",
     "output_type": "error",
     "traceback": [
      "\u001b[0;31m---------------------------------------------------------------------------\u001b[0m",
      "\u001b[0;31mNameError\u001b[0m                                 Traceback (most recent call last)",
      "\u001b[0;32m<ipython-input-99-59bb2857c1f1>\u001b[0m in \u001b[0;36m<module>\u001b[0;34m\u001b[0m\n\u001b[0;32m----> 1\u001b[0;31m \u001b[0mcandidates\u001b[0m\u001b[0;34m\u001b[0m\u001b[0;34m\u001b[0m\u001b[0m\n\u001b[0m",
      "\u001b[0;31mNameError\u001b[0m: name 'candidates' is not defined"
     ]
    }
   ],
   "source": [
    "candidates"
   ]
  },
  {
   "cell_type": "markdown",
   "metadata": {},
   "source": [
    "# Part 4 Choose 1 - 2 books to keep reading: \n",
    "\n",
    "+ SICP, Structure and Interpretation of Computer Programming. \n",
    "+ Introduction to Algorithms \n",
    "+ Artificial Intelligence A Modern Approach (3rd Edition) \n",
    "+ Code Complete 2 \n",
    "+ Programming Pearls \n",
    "+ Deep Learning\n",
    "+ 黑客与画家\n",
    "+ 数学之美\n",
    "+ Fluent Python\n",
    "+ Hands on Tensorflow\n",
    "+ Conference: NIPS_ ICML_ ICLR_ ACL_ AAAI\n",
    "\n",
    "> most books you may find in our github: https://github.com/Computing-Intelligence/References"
   ]
  },
  {
   "cell_type": "markdown",
   "metadata": {},
   "source": [
    "# Part 5-1: review machine learning"
   ]
  },
  {
   "cell_type": "markdown",
   "metadata": {},
   "source": [
    "1. Why do we use Derivative / Gredient to fit a target function?¶"
   ]
  },
  {
   "cell_type": "markdown",
   "metadata": {},
   "source": [
    "Ans:"
   ]
  },
  {
   "cell_type": "markdown",
   "metadata": {},
   "source": [
    "2. In the words 'Gredient Descent', what's the Gredient and what's the Descent?¶"
   ]
  },
  {
   "cell_type": "markdown",
   "metadata": {},
   "source": [
    "Ans:"
   ]
  },
  {
   "cell_type": "markdown",
   "metadata": {},
   "source": [
    "\n",
    "3. What's the advantages of the 3rd gradient descent method compared to the previous methods?"
   ]
  },
  {
   "cell_type": "markdown",
   "metadata": {},
   "source": [
    "Ans:"
   ]
  },
  {
   "cell_type": "markdown",
   "metadata": {},
   "source": [
    "4. Using the simple words to describe: What's the machine leanring.¶"
   ]
  },
  {
   "cell_type": "markdown",
   "metadata": {},
   "source": [
    "Ans:"
   ]
  },
  {
   "cell_type": "markdown",
   "metadata": {},
   "source": [
    "# Part 5: Answer following questions: "
   ]
  },
  {
   "cell_type": "markdown",
   "metadata": {},
   "source": [
    "1. Why do we need dynamic programming? What's the difference of dynamic programming and previous talked `search` problme? "
   ]
  },
  {
   "cell_type": "markdown",
   "metadata": {},
   "source": [
    "2. Why do we still need dynamic programming? Why not we train a machine learning to fit a function which could get the `right` answer based on inputs?"
   ]
  },
  {
   "cell_type": "markdown",
   "metadata": {},
   "source": [
    "3. Can you catch up at least 3 problems which could solved by Dynamic Programming? "
   ]
  },
  {
   "cell_type": "markdown",
   "metadata": {},
   "source": [
    "4. Can you catch up at least 3 problems wich could sloved by Edit Distance? "
   ]
  },
  {
   "cell_type": "markdown",
   "metadata": {},
   "source": [
    "5. Please summarize the three main features of Dynamic Programming, and make a concise explain for each feature. "
   ]
  },
  {
   "cell_type": "markdown",
   "metadata": {},
   "source": [
    "6. What's the disadvantages of Dynamic Programming? (You may need search by yourself in Internet)"
   ]
  },
  {
   "cell_type": "markdown",
   "metadata": {},
   "source": [
    "# Part 6 Preparation of Project-01"
   ]
  },
  {
   "cell_type": "markdown",
   "metadata": {},
   "source": [
    "1. Using python Flask or Bottle to finish your first simple web app:\n",
    "> https://bottlepy.org/\n",
    "\n",
    "2. Learn what's the SQL, and try some simple SQL operations:\n",
    "> https://www.w3schools.com/sql/sql_intro.asp\n",
    "\n",
    "3. Learn what's the HTML ( *ONLY* need to know the basic things)\n",
    "> https://getbootstrap.com/; https://www.w3schools.com/html/"
   ]
  },
  {
   "cell_type": "markdown",
   "metadata": {},
   "source": [
    "### (Optinal) Finish the k-person-salesman problem:"
   ]
  },
  {
   "cell_type": "code",
   "execution_count": null,
   "metadata": {},
   "outputs": [],
   "source": [
    "import random\n",
    "import matplotlib.pylab as plt"
   ]
  },
  {
   "cell_type": "code",
   "execution_count": null,
   "metadata": {},
   "outputs": [],
   "source": [
    "latitudes = [random.randint(-100, 100) for _ in range(20)]\n",
    "longitude = [random.randint(-100, 100) for _ in range(20)]"
   ]
  },
  {
   "cell_type": "code",
   "execution_count": null,
   "metadata": {},
   "outputs": [],
   "source": [
    "plt.scatter(latitudes, longitude)"
   ]
  },
  {
   "cell_type": "markdown",
   "metadata": {},
   "source": [
    "给定一个初始点 𝑃, 已经 𝑘个车辆，如何从该点出发，经这 k 个车辆经过所以的点全部一次，而且所走过的路程最短?\n",
    "\n",
    "例如："
   ]
  },
  {
   "cell_type": "code",
   "execution_count": null,
   "metadata": {},
   "outputs": [],
   "source": [
    "chosen_p = (-50, 10)\n",
    "chosen_p2 = (1, 30)\n",
    "chosen_p3 = (99, 15)"
   ]
  },
  {
   "cell_type": "code",
   "execution_count": null,
   "metadata": {},
   "outputs": [],
   "source": [
    "import matplotlib.pyplot as plt"
   ]
  },
  {
   "cell_type": "code",
   "execution_count": null,
   "metadata": {
    "scrolled": true
   },
   "outputs": [],
   "source": [
    "plt.scatter(latitudes, longitude)\n",
    "plt.scatter([chosen_p[0]], [chosen_p[1]], color='r')\n",
    "plt.scatter([chosen_p2[0]], [chosen_p2[1]], color='r')\n",
    "plt.scatter([chosen_p3[0]], [chosen_p3[1]], color='r')"
   ]
  },
  {
   "cell_type": "markdown",
   "metadata": {},
   "source": [
    "shuro"
   ]
  }
 ],
 "metadata": {
  "kernelspec": {
   "display_name": "Python 3",
   "language": "python",
   "name": "python3"
  },
  "language_info": {
   "codemirror_mode": {
    "name": "ipython",
    "version": 3
   },
   "file_extension": ".py",
   "mimetype": "text/x-python",
   "name": "python",
   "nbconvert_exporter": "python",
   "pygments_lexer": "ipython3",
   "version": "3.7.3"
  }
 },
 "nbformat": 4,
 "nbformat_minor": 2
}
